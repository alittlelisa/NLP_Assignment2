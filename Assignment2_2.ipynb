{
  "nbformat": 4,
  "nbformat_minor": 0,
  "metadata": {
    "colab": {
      "name": "Assignment2_2.ipynb",
      "provenance": [],
      "collapsed_sections": [],
      "machine_shape": "hm"
    },
    "kernelspec": {
      "name": "python3",
      "display_name": "Python 3"
    },
    "accelerator": "GPU"
  },
  "cells": [
    {
      "cell_type": "code",
      "metadata": {
        "id": "utbuwNFPUncs",
        "colab_type": "code",
        "outputId": "4e2eace7-7d92-4087-8af7-3a040d84998d",
        "colab": {
          "base_uri": "https://localhost:8080/",
          "height": 96
        }
      },
      "source": [
        "import pandas as pd\n",
        "import numpy as np\n",
        "from keras.models import Sequential\n",
        "from keras.layers import Dense\n",
        "from keras.wrappers.scikit_learn import KerasClassifier\n",
        "from keras.utils import np_utils\n",
        "from sklearn.model_selection import cross_val_score\n",
        "from sklearn.model_selection import KFold\n",
        "from sklearn.preprocessing import LabelEncoder\n",
        "from sklearn.pipeline import Pipeline\n",
        "# load dataset\n",
        "data_URL = \"https://raw.githubusercontent.com/cacoderquan/Sentiment-Analysis-on-the-Rotten-Tomatoes-movie-review-dataset/master/train.tsv\"\n",
        "data = pd.read_csv(data_URL, sep='\\t')\n",
        "\n"
      ],
      "execution_count": 1,
      "outputs": [
        {
          "output_type": "stream",
          "text": [
            "Using TensorFlow backend.\n"
          ],
          "name": "stderr"
        },
        {
          "output_type": "display_data",
          "data": {
            "text/html": [
              "<p style=\"color: red;\">\n",
              "The default version of TensorFlow in Colab will soon switch to TensorFlow 2.x.<br>\n",
              "We recommend you <a href=\"https://www.tensorflow.org/guide/migrate\" target=\"_blank\">upgrade</a> now \n",
              "or ensure your notebook will continue to use TensorFlow 1.x via the <code>%tensorflow_version 1.x</code> magic:\n",
              "<a href=\"https://colab.research.google.com/notebooks/tensorflow_version.ipynb\" target=\"_blank\">more info</a>.</p>\n"
            ],
            "text/plain": [
              "<IPython.core.display.HTML object>"
            ]
          },
          "metadata": {
            "tags": []
          }
        }
      ]
    },
    {
      "cell_type": "code",
      "metadata": {
        "id": "gxpAYNFiaXeO",
        "colab_type": "code",
        "outputId": "49b4fa92-cc03-41d0-97d6-fc6279670a11",
        "colab": {
          "base_uri": "https://localhost:8080/",
          "height": 151
        }
      },
      "source": [
        "import random\n",
        "import nltk\n",
        "from sklearn.model_selection import train_test_split\n",
        "nltk.download('punkt')\n",
        "nltk.download('stopwords')\n",
        "nltk.download('wordnet')\n",
        "from nltk.corpus import stopwords\n",
        "from nltk.stem import WordNetLemmatizer, PorterStemmer, LancasterStemmer\n",
        "from nltk.tokenize import word_tokenize\n",
        "random.seed(2003)\n",
        "documents = []\n",
        "\n",
        "for phraseId in range(data.shape[0]):\n",
        "  documents.append((word_tokenize(data['Phrase'].iloc[phraseId]), data['Sentiment'].iloc[phraseId]))\n",
        "\n",
        "random.shuffle(documents)\n",
        "print(documents[1][0])\n",
        "print(documents[1][1])"
      ],
      "execution_count": 2,
      "outputs": [
        {
          "output_type": "stream",
          "text": [
            "[nltk_data] Downloading package punkt to /root/nltk_data...\n",
            "[nltk_data]   Unzipping tokenizers/punkt.zip.\n",
            "[nltk_data] Downloading package stopwords to /root/nltk_data...\n",
            "[nltk_data]   Unzipping corpora/stopwords.zip.\n",
            "[nltk_data] Downloading package wordnet to /root/nltk_data...\n",
            "[nltk_data]   Unzipping corpora/wordnet.zip.\n",
            "['ca', \"n't\", 'believe', 'anyone', 'would', 'really', 'buy', 'this', 'stuff']\n",
            "0\n"
          ],
          "name": "stdout"
        }
      ]
    },
    {
      "cell_type": "code",
      "metadata": {
        "id": "GdpM9z8jakwZ",
        "colab_type": "code",
        "outputId": "f5148f10-30c9-40f9-f8b9-ff742d45416a",
        "colab": {
          "base_uri": "https://localhost:8080/",
          "height": 34
        }
      },
      "source": [
        "\n",
        "porter = PorterStemmer()\n",
        "lancaster=LancasterStemmer()\n",
        "wordnet_lemmatizer = WordNetLemmatizer()\n",
        "stopwords_en = stopwords.words(\"english\")\n",
        "punctuations=\"?:!.,;'\\\"-()\"\n",
        "\n",
        "remove_stopwords = True\n",
        "useStemming = False\n",
        "useLemma = True\n",
        "removePuncs = True\n",
        "print(documents[1][0])"
      ],
      "execution_count": 3,
      "outputs": [
        {
          "output_type": "stream",
          "text": [
            "['ca', \"n't\", 'believe', 'anyone', 'would', 'really', 'buy', 'this', 'stuff']\n"
          ],
          "name": "stdout"
        }
      ]
    },
    {
      "cell_type": "code",
      "metadata": {
        "id": "rtIqw7TVa4WS",
        "colab_type": "code",
        "outputId": "ef6267bd-e3fb-4eeb-8e90-cdc0a8aaed3b",
        "colab": {
          "base_uri": "https://localhost:8080/",
          "height": 34
        }
      },
      "source": [
        "for l in range(len(documents)):\n",
        "  label = documents[l][1]\n",
        "  tmpReview = []\n",
        "  for w in documents[l][0]:\n",
        "    newWord = w\n",
        "    if remove_stopwords and (w in stopwords_en):\n",
        "      continue\n",
        "    if removePuncs and (w in punctuations):\n",
        "      continue\n",
        "\n",
        "    if useStemming:\n",
        "      newWord = lancaster.stem(newWord)\n",
        "\n",
        "    if useLemma:\n",
        "      newWord = wordnet_lemmatizer.lemmatize(newWord)\n",
        "    tmpReview.append(newWord)\n",
        "  documents[l] = (tmpReview, label)\n",
        "  documents[l] = (' '.join(tmpReview), label)\n",
        "\n",
        "print(documents[1])"
      ],
      "execution_count": 4,
      "outputs": [
        {
          "output_type": "stream",
          "text": [
            "(\"ca n't believe anyone would really buy stuff\", 0)\n"
          ],
          "name": "stdout"
        }
      ]
    },
    {
      "cell_type": "code",
      "metadata": {
        "id": "AM3tVrMObMp4",
        "colab_type": "code",
        "colab": {}
      },
      "source": [
        "all_data = pd.DataFrame(documents, columns=['Phrase','Sentiment'])\n"
      ],
      "execution_count": 0,
      "outputs": []
    },
    {
      "cell_type": "code",
      "metadata": {
        "id": "VgNGpNdObR6p",
        "colab_type": "code",
        "colab": {}
      },
      "source": [
        "from sklearn.feature_extraction.text import CountVectorizer, TfidfVectorizer\n",
        "from keras.utils import np_utils\n",
        "\n",
        "#converts the labels to categorical/onehot encoded for multiclass predictions\n",
        "Y_categorical = np_utils.to_categorical(all_data[\"Sentiment\"])\n",
        "\n",
        "#stratify the data to keep the categories evenly distributed for better results\n",
        "X_train, X_test, Y_train, Y_test = train_test_split(all_data[\"Phrase\"],  all_data[\"Sentiment\"], test_size=0.3, stratify = Y_categorical, random_state=2003)\n",
        "\n",
        "vectorizer = TfidfVectorizer(stop_words=\"english\", ngram_range = (1, 1))\n",
        "\n",
        "X_train = vectorizer.fit_transform(X_train)\n",
        "\n",
        "X_test = vectorizer.transform(X_test)\n",
        "\n",
        "\n"
      ],
      "execution_count": 0,
      "outputs": []
    },
    {
      "cell_type": "code",
      "metadata": {
        "id": "3XIQQRgbdOOI",
        "colab_type": "code",
        "colab": {}
      },
      "source": [
        "from keras import backend as K\n",
        "\n",
        "#define metrics manually as they're not a part of keras anymore\n",
        "def recall_m(y_true, y_pred):\n",
        "    true_positives = K.sum(K.round(K.clip(y_true * y_pred, 0, 1)))\n",
        "    possible_positives = K.sum(K.round(K.clip(y_true, 0, 1)))\n",
        "    recall = true_positives / (possible_positives + K.epsilon())\n",
        "    return recall\n",
        "\n",
        "def precision_m(y_true, y_pred):\n",
        "    true_positives = K.sum(K.round(K.clip(y_true * y_pred, 0, 1)))\n",
        "    predicted_positives = K.sum(K.round(K.clip(y_pred, 0, 1)))\n",
        "    precision = true_positives / (predicted_positives + K.epsilon())\n",
        "    return precision\n",
        "\n",
        "def f1_m(y_true, y_pred):\n",
        "    precision = precision_m(y_true, y_pred)\n",
        "    recall = recall_m(y_true, y_pred)\n",
        "    return 2*((precision*recall)/(precision+recall+K.epsilon()))"
      ],
      "execution_count": 0,
      "outputs": []
    },
    {
      "cell_type": "code",
      "metadata": {
        "id": "ayxbQw5StT4h",
        "colab_type": "code",
        "colab": {}
      },
      "source": [
        "from numpy import newaxis\n",
        "#reshapes the training and testing inputs as proper input to the model\n",
        "X_train_np = X_train.toarray()\n",
        "X_train_reshaped = X_train_np[..., newaxis]\n",
        "X_test_np = X_test.toarray()\n",
        "X_test_reshaped = X_test_np[..., newaxis]"
      ],
      "execution_count": 0,
      "outputs": []
    },
    {
      "cell_type": "code",
      "metadata": {
        "id": "QGn6nB1wUYKX",
        "colab_type": "code",
        "outputId": "c9084d46-80dc-41cf-ea24-3ecd0814c06a",
        "colab": {
          "base_uri": "https://localhost:8080/",
          "height": 474
        }
      },
      "source": [
        "from keras.layers import Conv1D, Dropout, MaxPooling1D, Flatten, Dense, GlobalAveragePooling1D\n",
        "import time\n",
        "\n",
        "\n",
        "#define the input and output structure\n",
        "n_timesteps, n_features, n_outputs = X_train_reshaped.shape[1], X_train_reshaped.shape[2], Y_train.shape[1]\n",
        "\n",
        "\t# create model\n",
        "model = Sequential()\n",
        "model.add(Conv1D(filters=100, kernel_size=5, activation='relu', input_shape=(n_timesteps,n_features)))\n",
        "model.add(MaxPooling1D(pool_size=3))\n",
        "model.add(Conv1D(filters=100, kernel_size=5, activation='relu'))\n",
        "model.add(MaxPooling1D(pool_size=3))\n",
        "model.add(Conv1D(filters=120, kernel_size=3, activation='relu'))\n",
        "model.add(MaxPooling1D(pool_size=3))\n",
        "model.add(Conv1D(filters=120, kernel_size=3, activation='relu'))\n",
        "model.add(Dropout(0.5))\n",
        "model.add(Flatten())\n",
        "model.add(Dense(100, activation='relu'))\n",
        "model.add(Dense(50, activation='relu'))\n",
        "model.add(Dense(n_outputs, activation='softmax'))\n",
        "\t# Compile model\n",
        "model.compile(loss='categorical_crossentropy', optimizer='adam', metrics=['accuracy', f1_m, precision_m, recall_m])\n",
        "\n",
        "startTime = time.perf_counter()\n",
        "# fit the model\n",
        "history = model.fit(X_train_reshaped, Y_train, epochs=100, batch_size = 64, verbose=1)\n",
        "\n",
        "endTime = time.perf_counter()\n",
        "trainingTime = endTime-startTime\n",
        "\n",
        "print(\"Total training time: \" + str(trainingTime))\n",
        "\n",
        "# evaluate the model\n",
        "loss, accuracy, f1_score, precision, recall = model.evaluate(X_test_reshaped, Y_test, batch_size = 64, verbose=0)\n",
        "\n",
        "print(\"accuracy: \"+ str(accuracy))\n",
        "print(\"LOSS: \"+ str(loss))\n",
        "print(\"precision: \"+ str(precision))\n",
        "print(\"recall: \"+str(recall))\n",
        "print(\"F1 score: \"+str(f1_score))\n",
        "\n",
        "\n",
        " \n"
      ],
      "execution_count": 22,
      "outputs": [
        {
          "output_type": "stream",
          "text": [
            "Epoch 1/10\n",
            "109242/109242 [==============================] - 113s 1ms/step - loss: 1.0950 - acc: 0.5577 - f1_m: 0.4745 - precision_m: 0.6635 - recall_m: 0.3765\n",
            "Epoch 2/10\n",
            "109242/109242 [==============================] - 112s 1ms/step - loss: 0.9501 - acc: 0.6165 - f1_m: 0.5680 - precision_m: 0.6942 - recall_m: 0.4825\n",
            "Epoch 3/10\n",
            "109242/109242 [==============================] - 111s 1ms/step - loss: 0.8646 - acc: 0.6504 - f1_m: 0.6186 - precision_m: 0.7080 - recall_m: 0.5506\n",
            "Epoch 4/10\n",
            "109242/109242 [==============================] - 111s 1ms/step - loss: 0.8023 - acc: 0.6750 - f1_m: 0.6534 - precision_m: 0.7218 - recall_m: 0.5979\n",
            "Epoch 5/10\n",
            "109242/109242 [==============================] - 111s 1ms/step - loss: 0.7575 - acc: 0.6922 - f1_m: 0.6754 - precision_m: 0.7332 - recall_m: 0.6269\n",
            "Epoch 6/10\n",
            "109242/109242 [==============================] - 111s 1ms/step - loss: 0.7213 - acc: 0.7069 - f1_m: 0.6931 - precision_m: 0.7425 - recall_m: 0.6507\n",
            "Epoch 7/10\n",
            "109242/109242 [==============================] - 111s 1ms/step - loss: 0.6934 - acc: 0.7173 - f1_m: 0.7056 - precision_m: 0.7503 - recall_m: 0.6666\n",
            "Epoch 8/10\n",
            "109242/109242 [==============================] - 111s 1ms/step - loss: 0.6686 - acc: 0.7284 - f1_m: 0.7184 - precision_m: 0.7586 - recall_m: 0.6829\n",
            "Epoch 9/10\n",
            "109242/109242 [==============================] - 111s 1ms/step - loss: 0.6447 - acc: 0.7368 - f1_m: 0.7282 - precision_m: 0.7650 - recall_m: 0.6953\n",
            "Epoch 10/10\n",
            "109242/109242 [==============================] - 110s 1ms/step - loss: 0.6281 - acc: 0.7433 - f1_m: 0.7358 - precision_m: 0.7710 - recall_m: 0.7044\n",
            "Total training time: 1111.3202751809986\n",
            "accuracy: 0.6404160793010222\n",
            "LOSS: 0.9342585146424608\n",
            "precision: 0.6652056625058546\n",
            "recall: 0.5968644538578166\n",
            "F1 score: 0.6289008727184278\n"
          ],
          "name": "stdout"
        }
      ]
    },
    {
      "cell_type": "code",
      "metadata": {
        "id": "mwKAZRfzKviv",
        "colab_type": "code",
        "outputId": "aeb58e06-7937-4b74-de23-594e66b072f4",
        "colab": {
          "base_uri": "https://localhost:8080/",
          "height": 1000
        }
      },
      "source": [
        "import matplotlib.pyplot as plt\n",
        "\n",
        "print(history.history.keys())\n",
        "\n",
        "# summarize history for all measures and plot them\n",
        "plt.plot(history.history['acc'])\n",
        "plt.title('model accuracy')\n",
        "plt.ylabel('accuracy')\n",
        "plt.xlabel('epoch')\n",
        "plt.legend(['train', 'test'], loc='upper left')\n",
        "plt.show()\n",
        "\n",
        "plt.plot(history.history['loss'])\n",
        "plt.title('model loss')\n",
        "plt.ylabel('loss')\n",
        "plt.xlabel('epoch')\n",
        "plt.legend(['train', 'test'], loc='upper left')\n",
        "plt.show()\n",
        "\n",
        "plt.plot(history.history['f1_m'])\n",
        "plt.title('model f1 measure')\n",
        "plt.ylabel('f1 measure')\n",
        "plt.xlabel('epoch')\n",
        "plt.legend(['train', 'test'], loc='upper left')\n",
        "plt.show()\n",
        "\n",
        "plt.plot(history.history['precision_m'])\n",
        "plt.title('model precision')\n",
        "plt.ylabel('precision')\n",
        "plt.xlabel('epoch')\n",
        "plt.legend(['train', 'test'], loc='upper left')\n",
        "plt.show()\n",
        "\n",
        "plt.plot(history.history['recall_m'])\n",
        "plt.title('model recall')\n",
        "plt.ylabel('recall')\n",
        "plt.xlabel('epoch')\n",
        "plt.legend(['train', 'test'], loc='upper left')\n",
        "plt.show()"
      ],
      "execution_count": 11,
      "outputs": [
        {
          "output_type": "stream",
          "text": [
            "dict_keys(['loss', 'acc', 'f1_m', 'precision_m', 'recall_m'])\n"
          ],
          "name": "stdout"
        },
        {
          "output_type": "display_data",
          "data": {
            "image/png": "[encoded data removed]",
            "text/plain": [
              "<Figure size 432x288 with 1 Axes>"
            ]
          },
          "metadata": {
            "tags": []
          }
        },
        {
          "output_type": "display_data",
          "data": {
            "image/png": "[encoded data removed]",
            "text/plain": [
              "<Figure size 432x288 with 1 Axes>"
            ]
          },
          "metadata": {
            "tags": []
          }
        },
        {
          "output_type": "display_data",
          "data": {
            "image/png": "[encoded data removed]",
            "text/plain": [
              "<Figure size 432x288 with 1 Axes>"
            ]
          },
          "metadata": {
            "tags": []
          }
        },
        {
          "output_type": "display_data",
          "data": {
            "image/png": "[encoded data removed]",
            "text/plain": [
              "<Figure size 432x288 with 1 Axes>"
            ]
          },
          "metadata": {
            "tags": []
          }
        },
        {
          "output_type": "display_data",
          "data": {
            "image/png": "[encoded data removed]",
            "text/plain": [
              "<Figure size 432x288 with 1 Axes>"
            ]
          },
          "metadata": {
            "tags": []
          }
        }
      ]
    },
    {
      "cell_type": "code",
      "metadata": {
        "id": "tvYz3soce2CB",
        "colab_type": "code",
        "colab": {}
      },
      "source": [
        "model.save('0655603_1dconv_reg.pt')"
      ],
      "execution_count": 0,
      "outputs": []
    }
  ]
}